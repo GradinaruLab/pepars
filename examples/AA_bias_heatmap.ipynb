{
 "cells": [
  {
   "cell_type": "code",
   "execution_count": null,
   "metadata": {},
   "outputs": [],
   "source": [
    "from pepars.analysis import DNA as DNA_analysis\n",
    "from pepars.utils import DNA as DNA_utils\n",
    "\n",
    "from pepars.plotting import plotting\n",
    "plotting.init_notebook_mode()\n",
    "from pepars.plotting import DNA as DNA_plotting\n",
    "\n",
    "from pepars.analysis import amino_acids as AA_analysis\n",
    "from pepars.analysis import statistics as virus_stats\n",
    "import pandas as pd\n",
    "\n",
    "from pepars.analysis import statistics\n",
    "\n",
    "from pepars.simulation import simulation\n",
    "\n",
    "import random\n",
    "random.seed(42)"
   ]
  },
  {
   "cell_type": "code",
   "execution_count": null,
   "metadata": {},
   "outputs": [],
   "source": [
    "# Choose the length of the sequence and number of sequences to generate\n",
    "\n",
    "SEQUENCE_LENGTH = 7\n",
    "NUM_SEQUENCES = 10000"
   ]
  },
  {
   "cell_type": "code",
   "execution_count": null,
   "metadata": {},
   "outputs": [],
   "source": [
    "# Get a list of degenerate nucleotides\n",
    "degenerate_nucleotides = set(DNA_utils.IUPAC_GRAMMAR_MAP.keys())\n",
    "degenerate_nucleotides = sorted(list(degenerate_nucleotides.difference(set(DNA_utils.get_nucleotides()))))\n",
    "\n",
    "# We are generating some random input and output templates for testing\n",
    "input_template = [random.choice(degenerate_nucleotides) for _ in range(SEQUENCE_LENGTH * 3)]\n",
    "output_template = [random.choice(degenerate_nucleotides) for _ in range(SEQUENCE_LENGTH * 3)]\n",
    "\n",
    "# And from these templates, we generate a set of random sequences\n",
    "input_random_sequences = simulation.generate_random_sequences(input_template, NUM_SEQUENCES)\n",
    "output_random_sequences = simulation.generate_random_sequences(output_template, NUM_SEQUENCES)"
   ]
  },
  {
   "cell_type": "code",
   "execution_count": null,
   "metadata": {},
   "outputs": [],
   "source": [
    "# Generate sequence counts based on the random sequences\n",
    "\n",
    "input_sequence_counts = AA_analysis.get_amino_acid_counts_by_position(input_random_sequences)\n",
    "output_sequence_counts = AA_analysis.get_amino_acid_counts_by_position(output_random_sequences)"
   ]
  },
  {
   "cell_type": "code",
   "execution_count": null,
   "metadata": {},
   "outputs": [],
   "source": [
    "# Get the probabilities of each AA based on the templates\n",
    "\n",
    "input_sequence_expected_probabilities = DNA_analysis.get_amino_acid_probabilities_from_template(input_template)\n",
    "output_sequence_expected_probabilities = DNA_analysis.get_amino_acid_probabilities_from_template(output_template)"
   ]
  },
  {
   "cell_type": "code",
   "execution_count": null,
   "metadata": {},
   "outputs": [],
   "source": [
    "# Set the p value threshold for plotting\n",
    "P_VALUE_THRESHOLD = 1e-4\n",
    "\n",
    "# Whether to invert the outline by crosshatch (True) or not (False)\n",
    "INVERT_OUTLINE = False"
   ]
  },
  {
   "cell_type": "code",
   "execution_count": null,
   "metadata": {},
   "outputs": [],
   "source": [
    "# A negative control; if we compare the output sequence counts to the expected output probabilities, we should get no hits\n",
    "\n",
    "p_values, z_scores = virus_stats.get_significance_of_amino_acid_ratios(\n",
    "    output_sequence_counts, #set the numerator of the ratio\n",
    "    output_sequence_expected_probabilities,  #set the denominator of the ratio\n",
    "    test_type=virus_stats.Test_Type.BINOMIAL_NORMAL_APPROXIMATION_LOG2,   #set the function\n",
    "    multiple_comparison_correction=True\n",
    ")\n",
    "\n",
    "figure=DNA_plotting.plot_signficant_amino_acid_biases(\n",
    "    z_scores.values,\n",
    "    p_values=p_values.values,\n",
    "    p_value_threshold=P_VALUE_THRESHOLD,\n",
    "    interactive=True,\n",
    "    invert_outline=INVERT_OUTLINE\n",
    ")"
   ]
  },
  {
   "cell_type": "code",
   "execution_count": null,
   "metadata": {},
   "outputs": [],
   "source": [
    "# If we now compare our output sequences to the input sequences, the pattern differences between\n",
    "# amino acid templates should come out\n",
    "\n",
    "p_values, z_scores = virus_stats.get_significance_of_amino_acid_ratios(\n",
    "    output_sequence_counts, #set the numerator of the ratio\n",
    "    input_sequence_counts,  #set the denominator of the ratio\n",
    "    test_type=virus_stats.Test_Type.BINOMIAL_NORMAL_APPROXIMATION_LOG2,   #set the function\n",
    "    multiple_comparison_correction=True\n",
    ")\n",
    "\n",
    "figure=DNA_plotting.plot_signficant_amino_acid_biases(\n",
    "    z_scores.values,\n",
    "    p_values=p_values.values,\n",
    "    p_value_threshold=P_VALUE_THRESHOLD,\n",
    "    interactive=True,\n",
    "    invert_outline=INVERT_OUTLINE\n",
    ")"
   ]
  },
  {
   "cell_type": "code",
   "execution_count": null,
   "metadata": {},
   "outputs": [],
   "source": [
    "# If we now compare our output sequences to the input sequences, the pattern differences between\n",
    "# amino acid templates should come out\n",
    "\n",
    "p_values, z_scores = virus_stats.get_significance_of_amino_acid_ratios(\n",
    "    output_sequence_counts, #set the numerator of the ratio\n",
    "    input_sequence_expected_probabilities,  #set the denominator of the ratio\n",
    "    test_type=virus_stats.Test_Type.BINOMIAL_NORMAL_APPROXIMATION_LOG2,   #set the function\n",
    "    multiple_comparison_correction=True\n",
    ")\n",
    "\n",
    "figure=DNA_plotting.plot_signficant_amino_acid_biases(\n",
    "    z_scores.values,\n",
    "    p_values=p_values.values,\n",
    "    p_value_threshold=P_VALUE_THRESHOLD,\n",
    "    interactive=True,\n",
    "    invert_outline=INVERT_OUTLINE\n",
    ")"
   ]
  },
  {
   "cell_type": "code",
   "execution_count": null,
   "metadata": {},
   "outputs": [],
   "source": []
  }
 ],
 "metadata": {
  "kernelspec": {
   "display_name": "Python 3",
   "language": "python",
   "name": "python3"
  },
  "language_info": {
   "codemirror_mode": {
    "name": "ipython",
    "version": 3
   },
   "file_extension": ".py",
   "mimetype": "text/x-python",
   "name": "python",
   "nbconvert_exporter": "python",
   "pygments_lexer": "ipython3",
   "version": "3.6.8"
  }
 },
 "nbformat": 4,
 "nbformat_minor": 2
}
