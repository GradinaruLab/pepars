{
 "cells": [
  {
   "cell_type": "markdown",
   "metadata": {},
   "source": [
    "This example showcases how to find sequences matching a particular template in a FASTQ file, and converts it into a list of sequence counts"
   ]
  },
  {
   "cell_type": "code",
   "execution_count": null,
   "metadata": {},
   "outputs": [],
   "source": [
    "import os\n",
    "\n",
    "from pepars.fileio import fileio\n",
    "from pepars.utils import FASTQ_File_Set\n",
    "from pepars.alignment.Perfect_Match_Aligner import Perfect_Match_Aligner"
   ]
  },
  {
   "cell_type": "code",
   "execution_count": null,
   "metadata": {},
   "outputs": [],
   "source": [
    "# Download example FASTQ data for testing\n",
    "REMOTE_FILE_URL = \"https://caltech.box.com/shared/static/5a1zi1pawtn1x15tupr1pub01wqa5kfg.gz\"\n",
    "FASTQ_FILE_PATH = os.path.join(\"data\", \"example_reads.fastq.gz\")\n",
    "\n",
    "# This downloads the file, but only if it doesn't already exist\n",
    "fileio.download_remote_file(REMOTE_FILE_URL, FASTQ_FILE_PATH)"
   ]
  },
  {
   "cell_type": "code",
   "execution_count": null,
   "metadata": {},
   "outputs": [],
   "source": [
    "# If there is a template mismatch, but it is below this quality threshold - count it as a match anyway\n",
    "TEMPLATE_MISMATCH_QUALITY_THRESHOLD = 20\n",
    "\n",
    "# If there is an element of the variant sequence that is below this threshold, throw it away\n",
    "VARIANT_QUALITY_THRESHOLD = 30\n",
    "\n",
    "# The template to align against. All IUPAC grammar is allowed - any degenerate nucleotides are considered\n",
    "# part of the \"variant\" region\n",
    "# X's are a special character meaning to ignore that position\n",
    "# I's are a special character indicating this is the location of a UID, which should be counted as one read\n",
    "# if there are duplicates\n",
    "TEMPLATE = \"XXXXXXXXXXXXXXXXXXXXXXXXXXXXXXXXXXXXXXXGAGTGCCCAANNKNNKNNKNNKNNKNNKNNKGCACAGGCGCXXXXXXXXXXXXXXXXXXXX\""
   ]
  },
  {
   "cell_type": "code",
   "execution_count": null,
   "metadata": {},
   "outputs": [],
   "source": [
    "FASTQ_file_sets = [FASTQ_File_Set([FASTQ_FILE_PATH])]"
   ]
  },
  {
   "cell_type": "code",
   "execution_count": null,
   "metadata": {},
   "outputs": [],
   "source": [
    "aligner = Perfect_Match_Aligner()\n",
    "\n",
    "alignment_parameters = {\n",
    "    \"variant_sequence_quality_threshold\": VARIANT_QUALITY_THRESHOLD,\n",
    "    \"mismatch_quality_threshold\": TEMPLATE_MISMATCH_QUALITY_THRESHOLD\n",
    "}\n",
    "\n",
    "sequence_counts, statistics = aligner.align(\n",
    "    TEMPLATE,\n",
    "    FASTQ_file_sets,\n",
    "    alignment_parameters,\n",
    "    print\n",
    ")"
   ]
  },
  {
   "cell_type": "code",
   "execution_count": null,
   "metadata": {},
   "outputs": [],
   "source": [
    "for key, value in statistics.items():\n",
    "    print(\"%s: %.4f\" % (key, value))"
   ]
  }
 ],
 "metadata": {
  "kernelspec": {
   "display_name": "Python 3",
   "language": "python",
   "name": "python3"
  },
  "language_info": {
   "codemirror_mode": {
    "name": "ipython",
    "version": 3
   },
   "file_extension": ".py",
   "mimetype": "text/x-python",
   "name": "python",
   "nbconvert_exporter": "python",
   "pygments_lexer": "ipython3",
   "version": "3.6.7"
  }
 },
 "nbformat": 4,
 "nbformat_minor": 2
}
