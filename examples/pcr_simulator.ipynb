{
 "cells": [
  {
   "cell_type": "code",
   "execution_count": null,
   "metadata": {},
   "outputs": [],
   "source": [
    "import numpy\n",
    "import copy\n",
    "\n",
    "# Initialize plotting\n",
    "from plotly import offline as plotly_offline\n",
    "plotly_offline.init_notebook_mode(connected=True)\n",
    "from plotly import plotly\n",
    "from plotly import graph_objs"
   ]
  },
  {
   "cell_type": "code",
   "execution_count": null,
   "metadata": {},
   "outputs": [],
   "source": [
    "num_variants = 100\n",
    "variant_mean_count = 2\n",
    "\n",
    "true_variant_counts = numpy.round(numpy.random.gamma(2, variant_mean_count, num_variants)).astype(numpy.uint64)"
   ]
  },
  {
   "cell_type": "code",
   "execution_count": null,
   "metadata": {},
   "outputs": [],
   "source": [
    "num_PCR_rounds = 30\n",
    "PCR_efficiency = 0.1"
   ]
  },
  {
   "cell_type": "code",
   "execution_count": null,
   "metadata": {},
   "outputs": [],
   "source": [
    "variant_counts = copy.deepcopy(true_variant_counts)\n",
    "\n",
    "for round_index in range(num_PCR_rounds):\n",
    "    print(\"Round %i/%i\" % (round_index + 1, num_PCR_rounds))\n",
    "    for variant_index in range(num_variants):\n",
    "        new_variant_count = 0\n",
    "        variant_count = variant_counts[variant_index]\n",
    "        PCR_success = numpy.random.rand(variant_count)\n",
    "        new_variant_count += (PCR_success < PCR_efficiency).sum() * 2\n",
    "        new_variant_count += (PCR_success >= PCR_efficiency).sum()\n",
    "        variant_counts[variant_index] = new_variant_count"
   ]
  },
  {
   "cell_type": "code",
   "execution_count": null,
   "metadata": {},
   "outputs": [],
   "source": [
    "figure_traces = []\n",
    "\n",
    "scatter = graph_objs.Scatter(\n",
    "    x=true_variant_counts/sum(true_variant_counts),\n",
    "    y=variant_counts/sum(variant_counts),\n",
    "    mode='markers',\n",
    "    name=\"True vs Amplified Counts\"\n",
    ")\n",
    "\n",
    "figure_traces.append(scatter)\n",
    "\n",
    "layout = graph_objs.Layout(\n",
    "    title=\"True vs Amplified Counts\",\n",
    "    xaxis=dict(title=\"True\"),\n",
    "    yaxis=dict(title=\"Amplified\")\n",
    ")\n",
    "\n",
    "figure = graph_objs.Figure(data=figure_traces, layout=layout)\n",
    "\n",
    "plotly_offline.iplot(figure)"
   ]
  },
  {
   "cell_type": "code",
   "execution_count": null,
   "metadata": {},
   "outputs": [],
   "source": []
  }
 ],
 "metadata": {
  "kernelspec": {
   "display_name": "Python 3",
   "language": "python",
   "name": "python3"
  },
  "language_info": {
   "codemirror_mode": {
    "name": "ipython",
    "version": 3
   },
   "file_extension": ".py",
   "mimetype": "text/x-python",
   "name": "python",
   "nbconvert_exporter": "python",
   "pygments_lexer": "ipython3",
   "version": "3.6.7"
  }
 },
 "nbformat": 4,
 "nbformat_minor": 2
}
