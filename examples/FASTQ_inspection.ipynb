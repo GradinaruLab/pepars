{
 "cells": [
  {
   "cell_type": "code",
   "execution_count": null,
   "metadata": {},
   "outputs": [],
   "source": [
    "import os\n",
    "\n",
    "from pepars.analysis import sequencing_reads as sequencing_reads_analysis\n",
    "from pepars.analysis import DNA as DNA_analysis\n",
    "from pepars.fileio import fileio\n",
    "\n",
    "from pepars.plotting import plotting\n",
    "plotting.init_notebook_mode()\n",
    "from pepars.plotting import DNA as DNA_plotting"
   ]
  },
  {
   "cell_type": "code",
   "execution_count": null,
   "metadata": {},
   "outputs": [],
   "source": [
    "# Download example FASTQ data for testing\n",
    "REMOTE_FILE_URL = \"https://caltech.box.com/shared/static/5a1zi1pawtn1x15tupr1pub01wqa5kfg.gz\"\n",
    "FASTQ_FILE_PATH = os.path.join(\"data\", \"example_reads.fastq.gz\")\n",
    "\n",
    "# This downloads the file, but only if it doesn't already exist\n",
    "fileio.download_remote_file(REMOTE_FILE_URL, FASTQ_FILE_PATH)"
   ]
  },
  {
   "cell_type": "code",
   "execution_count": null,
   "metadata": {},
   "outputs": [],
   "source": [
    "# Get the distribution of nucleotides in this FASTQ file\n",
    "nucleotide_distribution = sequencing_reads_analysis.get_nucleotide_distribution(FASTQ_FILE_PATH)"
   ]
  },
  {
   "cell_type": "code",
   "execution_count": null,
   "metadata": {},
   "outputs": [],
   "source": [
    "# Plot the distribution of nucleotides\n",
    "DNA_plotting.plot_nucleotide_prevalence_bar_chart(nucleotide_distribution, interactive=True)"
   ]
  },
  {
   "cell_type": "code",
   "execution_count": null,
   "metadata": {},
   "outputs": [],
   "source": [
    "# Get an estimate of the template from this FASTQ file\n",
    "\n",
    "# How prevalent a nucleotide must be in order to be considered part of the template\n",
    "PERCENTILE_THRESHOLD = 0.1\n",
    "\n",
    "estimated_template = DNA_analysis.get_template_from_nucleotide_distribution(nucleotide_distribution, percentile_threshold=PERCENTILE_THRESHOLD)\n",
    "\n",
    "print(\"Estimated template is:\")\n",
    "print(estimated_template)"
   ]
  }
 ],
 "metadata": {
  "kernelspec": {
   "display_name": "Python 3",
   "language": "python",
   "name": "python3"
  },
  "language_info": {
   "codemirror_mode": {
    "name": "ipython",
    "version": 3
   },
   "file_extension": ".py",
   "mimetype": "text/x-python",
   "name": "python",
   "nbconvert_exporter": "python",
   "pygments_lexer": "ipython3",
   "version": "3.6.7"
  }
 },
 "nbformat": 4,
 "nbformat_minor": 2
}
