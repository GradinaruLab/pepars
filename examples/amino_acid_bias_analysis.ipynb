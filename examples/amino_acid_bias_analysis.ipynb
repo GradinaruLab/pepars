{
 "cells": [
  {
   "cell_type": "code",
   "execution_count": null,
   "metadata": {},
   "outputs": [],
   "source": [
    "import os\n",
    "import pandas\n",
    "\n",
    "from pepars.analysis import statistics as virus_stats\n",
    "from pepars.analysis import amino_acids as AA_analysis\n",
    "from pepars.plotting import plotting\n",
    "from pepars.plotting import DNA as DNA_plotting\n",
    "plotting.init_notebook_mode()"
   ]
  },
  {
   "cell_type": "code",
   "execution_count": null,
   "metadata": {},
   "outputs": [],
   "source": [
    "SEQUENCES_FILE_PATH = os.path.join(\"data\", \"random_sequences.xlsx\")\n",
    "VARIANT_TEMPLATE = \"NNKNNKNNKNNKNNKNNKNNK\""
   ]
  },
  {
   "cell_type": "code",
   "execution_count": null,
   "metadata": {},
   "outputs": [],
   "source": [
    "sequences_file = pandas.read_excel(SEQUENCES_FILE_PATH, header=None, index_col=0)\n",
    "sequences = sequences_file.index.values"
   ]
  },
  {
   "cell_type": "code",
   "execution_count": null,
   "metadata": {},
   "outputs": [],
   "source": [
    "amino_acid_counts_by_position = AA_analysis.get_amino_acid_counts_by_position(sequences)\n",
    "amino_acid_biases = AA_analysis.get_amino_acid_codon_biases([VARIANT_TEMPLATE])\n",
    "\n",
    "p_values, z_scores = virus_stats.get_significance_of_amino_acid_ratios(\n",
    "    amino_acid_counts_by_position,\n",
    "    amino_acid_biases,\n",
    "    test_type=virus_stats.Test_Type.STANDARDIZATION)\n",
    "\n",
    "plotting.plot_significance_z_scores(z_scores, interactive=True)"
   ]
  },
  {
   "cell_type": "code",
   "execution_count": null,
   "metadata": {},
   "outputs": [],
   "source": []
  }
 ],
 "metadata": {
  "kernelspec": {
   "display_name": "Python 3",
   "language": "python",
   "name": "python3"
  },
  "language_info": {
   "codemirror_mode": {
    "name": "ipython",
    "version": 3
   },
   "file_extension": ".py",
   "mimetype": "text/x-python",
   "name": "python",
   "nbconvert_exporter": "python",
   "pygments_lexer": "ipython3",
   "version": "3.6.7"
  }
 },
 "nbformat": 4,
 "nbformat_minor": 2
}
