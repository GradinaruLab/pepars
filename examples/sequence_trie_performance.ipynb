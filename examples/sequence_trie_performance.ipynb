{
 "cells": [
  {
   "cell_type": "code",
   "execution_count": null,
   "metadata": {},
   "outputs": [],
   "source": [
    "import time\n",
    "import numpy\n",
    "\n",
    "from pepars.utils import Sequence_Trie\n",
    "from pepars.utils import DNA\n",
    "from pepars.analysis import DNA as DNA_analysis"
   ]
  },
  {
   "cell_type": "code",
   "execution_count": null,
   "metadata": {},
   "outputs": [],
   "source": [
    "num_sequences = 100000\n",
    "sequence_length = 21\n",
    "alphabet = set(DNA.get_nucleotides())\n",
    "\n",
    "sequences = []\n",
    "for _ in range(num_sequences):\n",
    "    sequences.append(\"\".join(numpy.random.choice(list(DNA.get_nucleotides()), sequence_length)))"
   ]
  },
  {
   "cell_type": "code",
   "execution_count": null,
   "metadata": {},
   "outputs": [],
   "source": [
    "sequence_trie = Sequence_Trie(by_nucleotide=True)\n",
    "sequence_dict = {}\n",
    "start_time = time.time()\n",
    "for sequence_index, sequence in enumerate(sequences):\n",
    "    sequence_trie.add(sequence)\n",
    "    sequence_dict[sequence] = True\n",
    "end_time = time.time()\n",
    "duration = end_time - start_time\n",
    "print(\"Duration: %i\" % duration)"
   ]
  },
  {
   "cell_type": "code",
   "execution_count": null,
   "metadata": {},
   "outputs": [],
   "source": [
    "num_new_sequences = 1000\n",
    "\n",
    "for _ in range(num_new_sequences):\n",
    "    sequences.append(\"\".join(numpy.random.choice(list(DNA.get_nucleotides()), sequence_length)))"
   ]
  },
  {
   "cell_type": "code",
   "execution_count": null,
   "metadata": {},
   "outputs": [],
   "source": [
    "# Dictionary search\n",
    "\n",
    "num_one_offs = 0\n",
    "\n",
    "start_time = time.time()\n",
    "for sequence in sequences:\n",
    "    for index, character in enumerate(sequence):\n",
    "        for other_character in alphabet.difference(character):\n",
    "            one_off_sequence = sequence[0:index] + other_character + sequence[index+1:]\n",
    "            if one_off_sequence in sequence_dict:\n",
    "                num_one_offs += 1\n",
    "    \n",
    "print(\"Num one-offs: %i\" % num_one_offs)\n",
    "end_time = time.time()\n",
    "duration = end_time - start_time\n",
    "print(\"Duration: %i\" % duration)"
   ]
  },
  {
   "cell_type": "code",
   "execution_count": null,
   "metadata": {},
   "outputs": [],
   "source": [
    "# Naive sequence trie search\n",
    "\n",
    "num_one_offs = 0\n",
    "\n",
    "start_time = time.time()\n",
    "for sequence in sequences:\n",
    "    for index, character in enumerate(sequence):\n",
    "        for other_character in alphabet.difference(character):\n",
    "            one_off_sequence = sequence[0:index] + other_character + sequence[index+1:]\n",
    "            if sequence_trie.find(one_off_sequence):\n",
    "                num_one_offs += 1\n",
    "\n",
    "\n",
    "print(\"Num one-offs: %i\" % num_one_offs)\n",
    "end_time = time.time()\n",
    "duration = end_time - start_time\n",
    "print(\"Duration: %i\" % duration)"
   ]
  },
  {
   "cell_type": "code",
   "execution_count": null,
   "metadata": {},
   "outputs": [],
   "source": [
    "# Trie-optimized search\n",
    "\n",
    "num_one_offs = 0\n",
    "\n",
    "start_time = time.time()\n",
    "for sequence in sequences:\n",
    "    num_one_offs += len(DNA_analysis.find_all_sequences_of_distance_n(sequence, sequence_trie, allow_invalid=False))\n",
    "\n",
    "print(\"Num one-offs: %i\" % num_one_offs)\n",
    "end_time = time.time()\n",
    "duration = end_time - start_time\n",
    "print(\"Duration: %i\" % duration)"
   ]
  },
  {
   "cell_type": "code",
   "execution_count": null,
   "metadata": {},
   "outputs": [],
   "source": []
  }
 ],
 "metadata": {
  "kernelspec": {
   "display_name": "Python 3",
   "language": "python",
   "name": "python3"
  },
  "language_info": {
   "codemirror_mode": {
    "name": "ipython",
    "version": 3
   },
   "file_extension": ".py",
   "mimetype": "text/x-python",
   "name": "python",
   "nbconvert_exporter": "python",
   "pygments_lexer": "ipython3",
   "version": "3.6.7"
  }
 },
 "nbformat": 4,
 "nbformat_minor": 2
}
