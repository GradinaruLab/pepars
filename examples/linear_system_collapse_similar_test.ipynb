{
 "cells": [
  {
   "cell_type": "code",
   "execution_count": null,
   "metadata": {},
   "outputs": [],
   "source": [
    "import itertools\n",
    "import numpy\n",
    "from scipy import optimize"
   ]
  },
  {
   "cell_type": "code",
   "execution_count": null,
   "metadata": {},
   "outputs": [],
   "source": [
    "sequence_counts = [\n",
    "    (\"ATC\", 18000),\n",
    "    (\"CAG\", 9000),\n",
    "    (\"TAG\", 9000),\n",
    "    (\"CCA\", 8000),\n",
    "    (\"AAC\", 7000),\n",
    "    (\"AAT\", 100),\n",
    "    (\"CAT\", 200)\n",
    "]"
   ]
  },
  {
   "cell_type": "code",
   "execution_count": null,
   "metadata": {},
   "outputs": [],
   "source": [
    "ERROR_PROBABILITY = 0.25\n",
    "THRESHOLD = 0\n",
    "MAX_DISTANCE = 3\n",
    "\n",
    "ERROR_PROBABILITIES = [1 - ERROR_PROBABILITY]\n",
    "for distance in range(1, MAX_DISTANCE + 1):\n",
    "    ERROR_PROBABILITIES.append(numpy.power(ERROR_PROBABILITY, distance))"
   ]
  },
  {
   "cell_type": "code",
   "execution_count": null,
   "metadata": {},
   "outputs": [],
   "source": [
    "def prune_sequence_counts(sequence_counts):\n",
    "    \n",
    "    sequences_to_prune = []\n",
    "\n",
    "    for sequence_index, (sequence, count) in enumerate(sequence_counts):\n",
    "        if count < THRESHOLD:\n",
    "            sequences_to_prune.append(sequence_index)\n",
    "    \n",
    "    for sequence_index in reversed(sequences_to_prune):\n",
    "        del sequence_counts[sequence_index]\n",
    "    \n",
    "    return sequence_counts\n",
    "\n",
    "def hamming(s1, s2):\n",
    "    \"\"\"Calculate the Hamming distance between two bit strings\"\"\"\n",
    "    assert len(s1) == len(s2)\n",
    "    return sum(c1 != c2 for c1, c2 in zip(s1, s2))"
   ]
  },
  {
   "cell_type": "code",
   "execution_count": null,
   "metadata": {},
   "outputs": [],
   "source": [
    "sequence_counts = prune_sequence_counts(sequence_counts)"
   ]
  },
  {
   "cell_type": "code",
   "execution_count": null,
   "metadata": {},
   "outputs": [],
   "source": [
    "sequence_counts = [\n",
    "    (\"ATC\", 18000),\n",
    "    (\"CAG\", 9000),\n",
    "    (\"TAG\", 9000),\n",
    "    (\"CCA\", 8000),\n",
    "    (\"AAC\", 7000),\n",
    "    (\"AAT\", 100),\n",
    "    (\"CAT\", 200)\n",
    "]\n",
    "\n",
    "sequence_index = 0\n",
    "\n",
    "while sequence_index < len(sequence_counts) - 1:\n",
    "    \n",
    "    sequence_subset = {0: [sequence_counts[sequence_index]]}\n",
    "    \n",
    "    sequence_search_space = sequence_counts[sequence_index+1:]\n",
    "    \n",
    "    for distance in range(1, MAX_DISTANCE + 1):\n",
    "        \n",
    "        sequences_at_distance = []\n",
    "        \n",
    "        for current_sequence_counts in sequence_subset[distance - 1]:\n",
    "            \n",
    "            sequences_at_distance_indices = []\n",
    "            \n",
    "            for s_index, s in enumerate(sequence_search_space):\n",
    "                if hamming(s[0], current_sequence_counts[0]) == 1:\n",
    "                    sequences_at_distance.append(s)\n",
    "                    sequences_at_distance_indices.append(s_index)\n",
    "        \n",
    "            for sequence_to_delete_index in reversed(sequences_at_distance_indices):\n",
    "                del sequence_search_space[sequence_to_delete_index]\n",
    "        \n",
    "        sequence_subset[distance] = sequences_at_distance\n",
    "    \n",
    "    sequence_subset = list(itertools.chain.from_iterable([value for key, value in sequence_subset.items()]))\n",
    "    \n",
    "    num_sequences = len(sequence_subset)\n",
    "    \n",
    "    if num_sequences > 1:\n",
    "    \n",
    "        probabilities = numpy.eye(num_sequences) * (1 - ERROR_PROBABILITY)\n",
    "        counts = numpy.zeros((num_sequences,))\n",
    "        \n",
    "        for sequence_row_index in range(num_sequences):\n",
    "            \n",
    "            counts[sequence_row_index] = sequence_subset[sequence_row_index][1]\n",
    "            \n",
    "            row_sequence = sequence_subset[sequence_row_index][0]\n",
    "            \n",
    "            for sequence_column_index in range(sequence_row_index + 1, num_sequences):\n",
    "            \n",
    "                column_sequence = sequence_subset[sequence_column_index][0]\n",
    "                \n",
    "                distance = hamming(row_sequence, column_sequence)\n",
    "                \n",
    "                probabilities[sequence_row_index, sequence_column_index] = ERROR_PROBABILITIES[distance]\n",
    "                probabilities[sequence_column_index, sequence_row_index] = ERROR_PROBABILITIES[distance]\n",
    "    \n",
    "        results = optimize.lsq_linear(probabilities, counts, bounds=(0, numpy.inf))\n",
    "\n",
    "        updated_counts = results.x\n",
    "\n",
    "        for sequence_to_update_index, (sequence_to_update, count) in enumerate(sequence_subset):\n",
    "            for sequence_index, (sequence, _) in enumerate(sequence_counts):\n",
    "                if sequence_to_update == sequence:\n",
    "                    sequence_counts[sequence_index] = (sequence_to_update, updated_counts[sequence_to_update_index])\n",
    "                    break\n",
    "    \n",
    "    sequence_counts = prune_sequence_counts(sequence_counts)\n",
    "    sequence_index += 1"
   ]
  },
  {
   "cell_type": "code",
   "execution_count": null,
   "metadata": {},
   "outputs": [],
   "source": [
    "sequence_counts"
   ]
  },
  {
   "cell_type": "code",
   "execution_count": null,
   "metadata": {},
   "outputs": [],
   "source": []
  },
  {
   "cell_type": "code",
   "execution_count": null,
   "metadata": {},
   "outputs": [],
   "source": []
  }
 ],
 "metadata": {
  "kernelspec": {
   "display_name": "Python 3",
   "language": "python",
   "name": "python3"
  },
  "language_info": {
   "codemirror_mode": {
    "name": "ipython",
    "version": 3
   },
   "file_extension": ".py",
   "mimetype": "text/x-python",
   "name": "python",
   "nbconvert_exporter": "python",
   "pygments_lexer": "ipython3",
   "version": "3.6.7"
  }
 },
 "nbformat": 4,
 "nbformat_minor": 2
}
