{
 "cells": [
  {
   "cell_type": "code",
   "execution_count": null,
   "metadata": {},
   "outputs": [],
   "source": [
    "import numpy\n",
    "\n",
    "from utils import Sequence_Trie\n",
    "from utils import DNA"
   ]
  },
  {
   "cell_type": "code",
   "execution_count": null,
   "metadata": {},
   "outputs": [],
   "source": [
    "a = Sequence_Trie(by_nucleotide=True)"
   ]
  },
  {
   "cell_type": "code",
   "execution_count": null,
   "metadata": {},
   "outputs": [],
   "source": [
    "num_sequences = 10\n",
    "sequence_length = 21\n",
    "\n",
    "sequences = []\n",
    "for _ in range(num_sequences):\n",
    "    sequences.append(\"\".join(numpy.random.choice(list(DNA.get_nucleotides()), sequence_length)))"
   ]
  },
  {
   "cell_type": "code",
   "execution_count": null,
   "metadata": {},
   "outputs": [],
   "source": [
    "for sequence_index, sequence in enumerate(sequences):\n",
    "    a.add(sequence, sequence_index+1)"
   ]
  },
  {
   "cell_type": "code",
   "execution_count": null,
   "metadata": {},
   "outputs": [],
   "source": [
    "num_not_found = 0\n",
    "\n",
    "sequences.append(\"\".join(numpy.random.choice(list(DNA.get_nucleotides()), sequence_length)))\n",
    "\n",
    "for sequence in sequences:\n",
    "    if not a.find(sequence):\n",
    "        num_not_found += 1\n",
    "\n",
    "print(num_not_found)"
   ]
  },
  {
   "cell_type": "code",
   "execution_count": null,
   "metadata": {},
   "outputs": [],
   "source": [
    "for sequence in sequences:\n",
    "    print(a.get_value(sequence))"
   ]
  }
 ],
 "metadata": {
  "kernelspec": {
   "display_name": "Python 3",
   "language": "python",
   "name": "python3"
  },
  "language_info": {
   "codemirror_mode": {
    "name": "ipython",
    "version": 3
   },
   "file_extension": ".py",
   "mimetype": "text/x-python",
   "name": "python",
   "nbconvert_exporter": "python",
   "pygments_lexer": "ipython3",
   "version": "3.6.6"
  }
 },
 "nbformat": 4,
 "nbformat_minor": 2
}
